{
 "cells": [
  {
   "cell_type": "markdown",
   "metadata": {},
   "source": [
    "** This is a practice notebook for R101 course on webssite : ** ***[cognitiveclass.ai](https://cognitiveclass.ai/courses/r-101/)***"
   ]
  },
  {
   "cell_type": "markdown",
   "metadata": {},
   "source": [
    "# Data Structures in R"
   ]
  },
  {
   "cell_type": "markdown",
   "metadata": {},
   "source": [
    "## Array"
   ]
  },
  {
   "cell_type": "markdown",
   "metadata": {},
   "source": [
    "An array is a structure that **contains data of the same type**, whether that's strings, or characters, or integers.\n",
    "Arrays can be **multi-dimensional** as well, so the data can be contained in **multiple rows and columns**."
   ]
  },
  {
   "cell_type": "markdown",
   "metadata": {},
   "source": [
    "A vector is converted to an array using the **array()** function. We specify the dimension of the array using a **dim=** argument within the function."
   ]
  },
  {
   "cell_type": "code",
   "execution_count": 279,
   "metadata": {
    "collapsed": true
   },
   "outputs": [],
   "source": [
    "movie_vector <- c(\"Akira\", \"Toy Story\", \"Room\", \"The Wave\", \"Whiplash\", \"Star Wars\", \"The Ring\", \"The Artist\", \"Jumanji\")"
   ]
  },
  {
   "cell_type": "code",
   "execution_count": 280,
   "metadata": {},
   "outputs": [
    {
     "data": {
      "text/html": [
       "<table>\n",
       "<tbody>\n",
       "\t<tr><td>Akira     </td><td>Whiplash  </td><td>Jumanji   </td></tr>\n",
       "\t<tr><td>Toy Story </td><td>Star Wars </td><td>Akira     </td></tr>\n",
       "\t<tr><td>Room      </td><td>The Ring  </td><td>Toy Story </td></tr>\n",
       "\t<tr><td>The Wave  </td><td>The Artist</td><td>Room      </td></tr>\n",
       "</tbody>\n",
       "</table>\n"
      ],
      "text/latex": [
       "\\begin{tabular}{lll}\n",
       "\t Akira      & Whiplash   & Jumanji   \\\\\n",
       "\t Toy Story  & Star Wars  & Akira     \\\\\n",
       "\t Room       & The Ring   & Toy Story \\\\\n",
       "\t The Wave   & The Artist & Room      \\\\\n",
       "\\end{tabular}\n"
      ],
      "text/markdown": [
       "\n",
       "| Akira      | Whiplash   | Jumanji    | \n",
       "| Toy Story  | Star Wars  | Akira      | \n",
       "| Room       | The Ring   | Toy Story  | \n",
       "| The Wave   | The Artist | Room       | \n",
       "\n",
       "\n"
      ],
      "text/plain": [
       "     [,1]      [,2]       [,3]     \n",
       "[1,] Akira     Whiplash   Jumanji  \n",
       "[2,] Toy Story Star Wars  Akira    \n",
       "[3,] Room      The Ring   Toy Story\n",
       "[4,] The Wave  The Artist Room     "
      ]
     },
     "metadata": {},
     "output_type": "display_data"
    }
   ],
   "source": [
    "movie_array <- array(movie_vector, dim = c(4, 3))\n",
    "movie_array"
   ]
  },
  {
   "cell_type": "markdown",
   "metadata": {},
   "source": [
    "It can be seen in the above output that R repeats the first 3 elements. This is because the size of the array i.e. 4 x 3 = 12, is greater than the vector of lenghth 9."
   ]
  },
  {
   "cell_type": "markdown",
   "metadata": {},
   "source": [
    "To extract any element of the array, **specify the row and column index of that element within square brackets**."
   ]
  },
  {
   "cell_type": "code",
   "execution_count": 281,
   "metadata": {},
   "outputs": [
    {
     "data": {
      "text/html": [
       "'The Ring'"
      ],
      "text/latex": [
       "'The Ring'"
      ],
      "text/markdown": [
       "'The Ring'"
      ],
      "text/plain": [
       "[1] \"The Ring\""
      ]
     },
     "metadata": {},
     "output_type": "display_data"
    }
   ],
   "source": [
    "movie_array[3, 2] #to retrieve 1 element"
   ]
  },
  {
   "cell_type": "code",
   "execution_count": 282,
   "metadata": {},
   "outputs": [
    {
     "data": {
      "text/html": [
       "<ol class=list-inline>\n",
       "\t<li>'Whiplash'</li>\n",
       "\t<li>'Star Wars'</li>\n",
       "\t<li>'The Ring'</li>\n",
       "\t<li>'The Artist'</li>\n",
       "</ol>\n"
      ],
      "text/latex": [
       "\\begin{enumerate*}\n",
       "\\item 'Whiplash'\n",
       "\\item 'Star Wars'\n",
       "\\item 'The Ring'\n",
       "\\item 'The Artist'\n",
       "\\end{enumerate*}\n"
      ],
      "text/markdown": [
       "1. 'Whiplash'\n",
       "2. 'Star Wars'\n",
       "3. 'The Ring'\n",
       "4. 'The Artist'\n",
       "\n",
       "\n"
      ],
      "text/plain": [
       "[1] \"Whiplash\"   \"Star Wars\"  \"The Ring\"   \"The Artist\""
      ]
     },
     "metadata": {},
     "output_type": "display_data"
    }
   ],
   "source": [
    "movie_array[, 2] #to retrieve 2nd column"
   ]
  },
  {
   "cell_type": "code",
   "execution_count": 283,
   "metadata": {},
   "outputs": [
    {
     "data": {
      "text/html": [
       "<ol class=list-inline>\n",
       "\t<li>'Room'</li>\n",
       "\t<li>'The Ring'</li>\n",
       "\t<li>'Toy Story'</li>\n",
       "</ol>\n"
      ],
      "text/latex": [
       "\\begin{enumerate*}\n",
       "\\item 'Room'\n",
       "\\item 'The Ring'\n",
       "\\item 'Toy Story'\n",
       "\\end{enumerate*}\n"
      ],
      "text/markdown": [
       "1. 'Room'\n",
       "2. 'The Ring'\n",
       "3. 'Toy Story'\n",
       "\n",
       "\n"
      ],
      "text/plain": [
       "[1] \"Room\"      \"The Ring\"  \"Toy Story\""
      ]
     },
     "metadata": {},
     "output_type": "display_data"
    }
   ],
   "source": [
    "movie_array[3, ] #to retrieve 3rd row"
   ]
  },
  {
   "cell_type": "code",
   "execution_count": 284,
   "metadata": {},
   "outputs": [
    {
     "data": {
      "text/html": [
       "<table>\n",
       "<tbody>\n",
       "\t<tr><td>Akira    </td><td>Whiplash </td></tr>\n",
       "\t<tr><td>Toy Story</td><td>Star Wars</td></tr>\n",
       "\t<tr><td>Room     </td><td>The Ring </td></tr>\n",
       "</tbody>\n",
       "</table>\n"
      ],
      "text/latex": [
       "\\begin{tabular}{ll}\n",
       "\t Akira     & Whiplash \\\\\n",
       "\t Toy Story & Star Wars\\\\\n",
       "\t Room      & The Ring \\\\\n",
       "\\end{tabular}\n"
      ],
      "text/markdown": [
       "\n",
       "| Akira     | Whiplash  | \n",
       "| Toy Story | Star Wars | \n",
       "| Room      | The Ring  | \n",
       "\n",
       "\n"
      ],
      "text/plain": [
       "     [,1]      [,2]     \n",
       "[1,] Akira     Whiplash \n",
       "[2,] Toy Story Star Wars\n",
       "[3,] Room      The Ring "
      ]
     },
     "metadata": {},
     "output_type": "display_data"
    }
   ],
   "source": [
    "movie_array[1:3, 1:2] #to retrieve row 1 to 3, and column 1 to 2."
   ]
  },
  {
   "cell_type": "markdown",
   "metadata": {},
   "source": [
    "## Matrix"
   ]
  },
  {
   "cell_type": "markdown",
   "metadata": {},
   "source": [
    "A matrix is similar in structure to an array. A matrix must be **two dimensional**. "
   ]
  },
  {
   "cell_type": "markdown",
   "metadata": {},
   "source": [
    "A matrix is created from a vector using a **matrix()** method. \n",
    "This takes 3 arguments, **name of the vector**, number of rows (**nrow = **) and number of columns (**ncol = **)."
   ]
  },
  {
   "cell_type": "code",
   "execution_count": 285,
   "metadata": {},
   "outputs": [
    {
     "data": {
      "text/html": [
       "<table>\n",
       "<tbody>\n",
       "\t<tr><td>Akira     </td><td>The Wave  </td><td>The Ring  </td></tr>\n",
       "\t<tr><td>Toy Story </td><td>Whiplash  </td><td>The Artist</td></tr>\n",
       "\t<tr><td>Room      </td><td>Star Wars </td><td>Jumanji   </td></tr>\n",
       "</tbody>\n",
       "</table>\n"
      ],
      "text/latex": [
       "\\begin{tabular}{lll}\n",
       "\t Akira      & The Wave   & The Ring  \\\\\n",
       "\t Toy Story  & Whiplash   & The Artist\\\\\n",
       "\t Room       & Star Wars  & Jumanji   \\\\\n",
       "\\end{tabular}\n"
      ],
      "text/markdown": [
       "\n",
       "| Akira      | The Wave   | The Ring   | \n",
       "| Toy Story  | Whiplash   | The Artist | \n",
       "| Room       | Star Wars  | Jumanji    | \n",
       "\n",
       "\n"
      ],
      "text/plain": [
       "     [,1]      [,2]      [,3]      \n",
       "[1,] Akira     The Wave  The Ring  \n",
       "[2,] Toy Story Whiplash  The Artist\n",
       "[3,] Room      Star Wars Jumanji   "
      ]
     },
     "metadata": {},
     "output_type": "display_data"
    }
   ],
   "source": [
    "movie_matrix = matrix(movie_vector, nrow = 3, ncol = 3)\n",
    "movie_matrix"
   ]
  },
  {
   "cell_type": "markdown",
   "metadata": {},
   "source": [
    "By default the matrix elements are organised by columns. We can change this by adding a parameter **byrow = TRUE**"
   ]
  },
  {
   "cell_type": "code",
   "execution_count": 286,
   "metadata": {},
   "outputs": [
    {
     "data": {
      "text/html": [
       "<table>\n",
       "<tbody>\n",
       "\t<tr><td>Akira     </td><td>Toy Story </td><td>Room      </td></tr>\n",
       "\t<tr><td>The Wave  </td><td>Whiplash  </td><td>Star Wars </td></tr>\n",
       "\t<tr><td>The Ring  </td><td>The Artist</td><td>Jumanji   </td></tr>\n",
       "</tbody>\n",
       "</table>\n"
      ],
      "text/latex": [
       "\\begin{tabular}{lll}\n",
       "\t Akira      & Toy Story  & Room      \\\\\n",
       "\t The Wave   & Whiplash   & Star Wars \\\\\n",
       "\t The Ring   & The Artist & Jumanji   \\\\\n",
       "\\end{tabular}\n"
      ],
      "text/markdown": [
       "\n",
       "| Akira      | Toy Story  | Room       | \n",
       "| The Wave   | Whiplash   | Star Wars  | \n",
       "| The Ring   | The Artist | Jumanji    | \n",
       "\n",
       "\n"
      ],
      "text/plain": [
       "     [,1]     [,2]       [,3]     \n",
       "[1,] Akira    Toy Story  Room     \n",
       "[2,] The Wave Whiplash   Star Wars\n",
       "[3,] The Ring The Artist Jumanji  "
      ]
     },
     "metadata": {},
     "output_type": "display_data"
    }
   ],
   "source": [
    "movie_matrix = matrix(movie_vector, nrow = 3, ncol = 3, byrow = TRUE)\n",
    "movie_matrix"
   ]
  },
  {
   "cell_type": "markdown",
   "metadata": {},
   "source": [
    "A subset of the matrix can also be accessed by specifying row and column range."
   ]
  },
  {
   "cell_type": "code",
   "execution_count": 287,
   "metadata": {},
   "outputs": [
    {
     "data": {
      "text/html": [
       "<table>\n",
       "<tbody>\n",
       "\t<tr><td>Akira     </td><td>Toy Story </td></tr>\n",
       "\t<tr><td>The Wave  </td><td>Whiplash  </td></tr>\n",
       "\t<tr><td>The Ring  </td><td>The Artist</td></tr>\n",
       "</tbody>\n",
       "</table>\n"
      ],
      "text/latex": [
       "\\begin{tabular}{ll}\n",
       "\t Akira      & Toy Story \\\\\n",
       "\t The Wave   & Whiplash  \\\\\n",
       "\t The Ring   & The Artist\\\\\n",
       "\\end{tabular}\n"
      ],
      "text/markdown": [
       "\n",
       "| Akira      | Toy Story  | \n",
       "| The Wave   | Whiplash   | \n",
       "| The Ring   | The Artist | \n",
       "\n",
       "\n"
      ],
      "text/plain": [
       "     [,1]     [,2]      \n",
       "[1,] Akira    Toy Story \n",
       "[2,] The Wave Whiplash  \n",
       "[3,] The Ring The Artist"
      ]
     },
     "metadata": {},
     "output_type": "display_data"
    }
   ],
   "source": [
    "movie_matrix[1:3, 1:2]"
   ]
  },
  {
   "cell_type": "markdown",
   "metadata": {},
   "source": [
    "## List"
   ]
  },
  {
   "cell_type": "markdown",
   "metadata": {},
   "source": [
    "A list is a collection of elements. A list may contain **elements of different data types**."
   ]
  },
  {
   "cell_type": "code",
   "execution_count": 288,
   "metadata": {},
   "outputs": [
    {
     "data": {
      "text/html": [
       "<ol>\n",
       "\t<li>'Toy Story'</li>\n",
       "\t<li>1995</li>\n",
       "\t<li><ol class=list-inline>\n",
       "\t<li>'Animation'</li>\n",
       "\t<li>'Adventure'</li>\n",
       "\t<li>'Comedy'</li>\n",
       "</ol>\n",
       "</li>\n",
       "</ol>\n"
      ],
      "text/latex": [
       "\\begin{enumerate}\n",
       "\\item 'Toy Story'\n",
       "\\item 1995\n",
       "\\item \\begin{enumerate*}\n",
       "\\item 'Animation'\n",
       "\\item 'Adventure'\n",
       "\\item 'Comedy'\n",
       "\\end{enumerate*}\n",
       "\n",
       "\\end{enumerate}\n"
      ],
      "text/markdown": [
       "1. 'Toy Story'\n",
       "2. 1995\n",
       "3. 1. 'Animation'\n",
       "2. 'Adventure'\n",
       "3. 'Comedy'\n",
       "\n",
       "\n",
       "\n",
       "\n",
       "\n"
      ],
      "text/plain": [
       "[[1]]\n",
       "[1] \"Toy Story\"\n",
       "\n",
       "[[2]]\n",
       "[1] 1995\n",
       "\n",
       "[[3]]\n",
       "[1] \"Animation\" \"Adventure\" \"Comedy\"   \n"
      ]
     },
     "metadata": {},
     "output_type": "display_data"
    }
   ],
   "source": [
    "movie_list <- list(\"Toy Story\", 1995, c(\"Animation\", \"Adventure\", \"Comedy\"))\n",
    "movie_list"
   ]
  },
  {
   "cell_type": "markdown",
   "metadata": {},
   "source": [
    "Single or multiple elements can be retrieved by specifying the element index or index range within **square brackets []**"
   ]
  },
  {
   "cell_type": "code",
   "execution_count": 289,
   "metadata": {},
   "outputs": [
    {
     "data": {
      "text/html": [
       "<ol>\n",
       "\t<li>'Toy Story'</li>\n",
       "</ol>\n"
      ],
      "text/latex": [
       "\\begin{enumerate}\n",
       "\\item 'Toy Story'\n",
       "\\end{enumerate}\n"
      ],
      "text/markdown": [
       "1. 'Toy Story'\n",
       "\n",
       "\n"
      ],
      "text/plain": [
       "[[1]]\n",
       "[1] \"Toy Story\"\n"
      ]
     },
     "metadata": {},
     "output_type": "display_data"
    }
   ],
   "source": [
    "movie_list[1]"
   ]
  },
  {
   "cell_type": "code",
   "execution_count": 290,
   "metadata": {},
   "outputs": [
    {
     "data": {
      "text/html": [
       "<ol>\n",
       "\t<li>1995</li>\n",
       "\t<li><ol class=list-inline>\n",
       "\t<li>'Animation'</li>\n",
       "\t<li>'Adventure'</li>\n",
       "\t<li>'Comedy'</li>\n",
       "</ol>\n",
       "</li>\n",
       "</ol>\n"
      ],
      "text/latex": [
       "\\begin{enumerate}\n",
       "\\item 1995\n",
       "\\item \\begin{enumerate*}\n",
       "\\item 'Animation'\n",
       "\\item 'Adventure'\n",
       "\\item 'Comedy'\n",
       "\\end{enumerate*}\n",
       "\n",
       "\\end{enumerate}\n"
      ],
      "text/markdown": [
       "1. 1995\n",
       "2. 1. 'Animation'\n",
       "2. 'Adventure'\n",
       "3. 'Comedy'\n",
       "\n",
       "\n",
       "\n",
       "\n",
       "\n"
      ],
      "text/plain": [
       "[[1]]\n",
       "[1] 1995\n",
       "\n",
       "[[2]]\n",
       "[1] \"Animation\" \"Adventure\" \"Comedy\"   \n"
      ]
     },
     "metadata": {},
     "output_type": "display_data"
    }
   ],
   "source": [
    "movie_list[2:3]"
   ]
  },
  {
   "cell_type": "markdown",
   "metadata": {},
   "source": [
    "### Named List"
   ]
  },
  {
   "cell_type": "markdown",
   "metadata": {},
   "source": [
    "A named list is a list where each element has been named or given a category."
   ]
  },
  {
   "cell_type": "code",
   "execution_count": 291,
   "metadata": {
    "collapsed": true
   },
   "outputs": [],
   "source": [
    "movie_named_list <- list(name = \"Toy Story\",\n",
    "                         year = 1995,\n",
    "                         genre = c(\"Animation\", \"Adventure\", \"Comedy\"))"
   ]
  },
  {
   "cell_type": "code",
   "execution_count": 292,
   "metadata": {},
   "outputs": [
    {
     "data": {
      "text/html": [
       "<dl>\n",
       "\t<dt>$name</dt>\n",
       "\t\t<dd>'Toy Story'</dd>\n",
       "\t<dt>$year</dt>\n",
       "\t\t<dd>1995</dd>\n",
       "\t<dt>$genre</dt>\n",
       "\t\t<dd><ol class=list-inline>\n",
       "\t<li>'Animation'</li>\n",
       "\t<li>'Adventure'</li>\n",
       "\t<li>'Comedy'</li>\n",
       "</ol>\n",
       "</dd>\n",
       "</dl>\n"
      ],
      "text/latex": [
       "\\begin{description}\n",
       "\\item[\\$name] 'Toy Story'\n",
       "\\item[\\$year] 1995\n",
       "\\item[\\$genre] \\begin{enumerate*}\n",
       "\\item 'Animation'\n",
       "\\item 'Adventure'\n",
       "\\item 'Comedy'\n",
       "\\end{enumerate*}\n",
       "\n",
       "\\end{description}\n"
      ],
      "text/markdown": [
       "$name\n",
       ":   'Toy Story'\n",
       "$year\n",
       ":   1995\n",
       "$genre\n",
       ":   1. 'Animation'\n",
       "2. 'Adventure'\n",
       "3. 'Comedy'\n",
       "\n",
       "\n",
       "\n",
       "\n",
       "\n"
      ],
      "text/plain": [
       "$name\n",
       "[1] \"Toy Story\"\n",
       "\n",
       "$year\n",
       "[1] 1995\n",
       "\n",
       "$genre\n",
       "[1] \"Animation\" \"Adventure\" \"Comedy\"   \n"
      ]
     },
     "metadata": {},
     "output_type": "display_data"
    }
   ],
   "source": [
    "movie_named_list"
   ]
  },
  {
   "cell_type": "markdown",
   "metadata": {},
   "source": [
    "We can retrieve elements from individual categories using the **listName\\$categoryName** syntax, where selectorName is the name of the category within the list. **Note the dollor sign operator \"\\$\" between the list name and the category name**"
   ]
  },
  {
   "cell_type": "code",
   "execution_count": 293,
   "metadata": {},
   "outputs": [
    {
     "data": {
      "text/html": [
       "<ol class=list-inline>\n",
       "\t<li>'Animation'</li>\n",
       "\t<li>'Adventure'</li>\n",
       "\t<li>'Comedy'</li>\n",
       "</ol>\n"
      ],
      "text/latex": [
       "\\begin{enumerate*}\n",
       "\\item 'Animation'\n",
       "\\item 'Adventure'\n",
       "\\item 'Comedy'\n",
       "\\end{enumerate*}\n"
      ],
      "text/markdown": [
       "1. 'Animation'\n",
       "2. 'Adventure'\n",
       "3. 'Comedy'\n",
       "\n",
       "\n"
      ],
      "text/plain": [
       "[1] \"Animation\" \"Adventure\" \"Comedy\"   "
      ]
     },
     "metadata": {},
     "output_type": "display_data"
    }
   ],
   "source": [
    "movie_named_list$genre"
   ]
  },
  {
   "cell_type": "code",
   "execution_count": 294,
   "metadata": {},
   "outputs": [
    {
     "data": {
      "text/html": [
       "'Toy Story'"
      ],
      "text/latex": [
       "'Toy Story'"
      ],
      "text/markdown": [
       "'Toy Story'"
      ],
      "text/plain": [
       "[1] \"Toy Story\""
      ]
     },
     "metadata": {},
     "output_type": "display_data"
    }
   ],
   "source": [
    "movie_named_list$name"
   ]
  },
  {
   "cell_type": "markdown",
   "metadata": {},
   "source": [
    "Category elements can also be retrieved by specifying the category name within the **listName[\" \"]** syntax."
   ]
  },
  {
   "cell_type": "code",
   "execution_count": 295,
   "metadata": {},
   "outputs": [
    {
     "data": {
      "text/html": [
       "<strong>$name</strong> = 'Toy Story'"
      ],
      "text/latex": [
       "\\textbf{\\$name} = 'Toy Story'"
      ],
      "text/markdown": [
       "**$name** = 'Toy Story'"
      ],
      "text/plain": [
       "$name\n",
       "[1] \"Toy Story\"\n"
      ]
     },
     "metadata": {},
     "output_type": "display_data"
    }
   ],
   "source": [
    "movie_named_list[\"name\"]"
   ]
  },
  {
   "cell_type": "code",
   "execution_count": 296,
   "metadata": {},
   "outputs": [
    {
     "data": {
      "text/html": [
       "<dl>\n",
       "\t<dt>$year</dt>\n",
       "\t\t<dd>1995</dd>\n",
       "\t<dt>$genre</dt>\n",
       "\t\t<dd><ol class=list-inline>\n",
       "\t<li>'Animation'</li>\n",
       "\t<li>'Adventure'</li>\n",
       "\t<li>'Comedy'</li>\n",
       "</ol>\n",
       "</dd>\n",
       "</dl>\n"
      ],
      "text/latex": [
       "\\begin{description}\n",
       "\\item[\\$year] 1995\n",
       "\\item[\\$genre] \\begin{enumerate*}\n",
       "\\item 'Animation'\n",
       "\\item 'Adventure'\n",
       "\\item 'Comedy'\n",
       "\\end{enumerate*}\n",
       "\n",
       "\\end{description}\n"
      ],
      "text/markdown": [
       "$year\n",
       ":   1995\n",
       "$genre\n",
       ":   1. 'Animation'\n",
       "2. 'Adventure'\n",
       "3. 'Comedy'\n",
       "\n",
       "\n",
       "\n",
       "\n",
       "\n"
      ],
      "text/plain": [
       "$year\n",
       "[1] 1995\n",
       "\n",
       "$genre\n",
       "[1] \"Animation\" \"Adventure\" \"Comedy\"   \n"
      ]
     },
     "metadata": {},
     "output_type": "display_data"
    }
   ],
   "source": [
    "movie_named_list[c(\"year\", \"genre\")]"
   ]
  },
  {
   "cell_type": "markdown",
   "metadata": {},
   "source": [
    "The **class()** function can be used to determine the type of an object."
   ]
  },
  {
   "cell_type": "code",
   "execution_count": 297,
   "metadata": {},
   "outputs": [
    {
     "data": {
      "text/html": [
       "'list'"
      ],
      "text/latex": [
       "'list'"
      ],
      "text/markdown": [
       "'list'"
      ],
      "text/plain": [
       "[1] \"list\""
      ]
     },
     "metadata": {},
     "output_type": "display_data"
    },
    {
     "data": {
      "text/html": [
       "'matrix'"
      ],
      "text/latex": [
       "'matrix'"
      ],
      "text/markdown": [
       "'matrix'"
      ],
      "text/plain": [
       "[1] \"matrix\""
      ]
     },
     "metadata": {},
     "output_type": "display_data"
    },
    {
     "data": {
      "text/html": [
       "'matrix'"
      ],
      "text/latex": [
       "'matrix'"
      ],
      "text/markdown": [
       "'matrix'"
      ],
      "text/plain": [
       "[1] \"matrix\""
      ]
     },
     "metadata": {},
     "output_type": "display_data"
    }
   ],
   "source": [
    "class(movie_named_list)\n",
    "class(movie_array)\n",
    "class(movie_matrix)"
   ]
  },
  {
   "cell_type": "code",
   "execution_count": 298,
   "metadata": {},
   "outputs": [
    {
     "data": {
      "text/html": [
       "'numeric'"
      ],
      "text/latex": [
       "'numeric'"
      ],
      "text/markdown": [
       "'numeric'"
      ],
      "text/plain": [
       "[1] \"numeric\""
      ]
     },
     "metadata": {},
     "output_type": "display_data"
    },
    {
     "data": {
      "text/html": [
       "'character'"
      ],
      "text/latex": [
       "'character'"
      ],
      "text/markdown": [
       "'character'"
      ],
      "text/plain": [
       "[1] \"character\""
      ]
     },
     "metadata": {},
     "output_type": "display_data"
    },
    {
     "data": {
      "text/html": [
       "'NULL'"
      ],
      "text/latex": [
       "'NULL'"
      ],
      "text/markdown": [
       "'NULL'"
      ],
      "text/plain": [
       "[1] \"NULL\""
      ]
     },
     "metadata": {},
     "output_type": "display_data"
    }
   ],
   "source": [
    "class(movie_named_list$year)\n",
    "class(movie_named_list$genre)\n",
    "class(movie_named_list$release) #category \"release\" does not exist in the named list"
   ]
  },
  {
   "cell_type": "markdown",
   "metadata": {},
   "source": [
    "New elements can be added and updated by using the **double square brackets [[ ]]** operator, because we are directly referencing a list member (and we want to change its content)."
   ]
  },
  {
   "cell_type": "code",
   "execution_count": 299,
   "metadata": {},
   "outputs": [
    {
     "data": {
      "text/html": [
       "<dl>\n",
       "\t<dt>$name</dt>\n",
       "\t\t<dd>'Toy Story'</dd>\n",
       "\t<dt>$year</dt>\n",
       "\t\t<dd>1995</dd>\n",
       "\t<dt>$genre</dt>\n",
       "\t\t<dd><ol class=list-inline>\n",
       "\t<li>'Animation'</li>\n",
       "\t<li>'Adventure'</li>\n",
       "\t<li>'Comedy'</li>\n",
       "</ol>\n",
       "</dd>\n",
       "\t<dt>$age</dt>\n",
       "\t\t<dd>5</dd>\n",
       "</dl>\n"
      ],
      "text/latex": [
       "\\begin{description}\n",
       "\\item[\\$name] 'Toy Story'\n",
       "\\item[\\$year] 1995\n",
       "\\item[\\$genre] \\begin{enumerate*}\n",
       "\\item 'Animation'\n",
       "\\item 'Adventure'\n",
       "\\item 'Comedy'\n",
       "\\end{enumerate*}\n",
       "\n",
       "\\item[\\$age] 5\n",
       "\\end{description}\n"
      ],
      "text/markdown": [
       "$name\n",
       ":   'Toy Story'\n",
       "$year\n",
       ":   1995\n",
       "$genre\n",
       ":   1. 'Animation'\n",
       "2. 'Adventure'\n",
       "3. 'Comedy'\n",
       "\n",
       "\n",
       "\n",
       "$age\n",
       ":   5\n",
       "\n",
       "\n"
      ],
      "text/plain": [
       "$name\n",
       "[1] \"Toy Story\"\n",
       "\n",
       "$year\n",
       "[1] 1995\n",
       "\n",
       "$genre\n",
       "[1] \"Animation\" \"Adventure\" \"Comedy\"   \n",
       "\n",
       "$age\n",
       "[1] 5\n"
      ]
     },
     "metadata": {},
     "output_type": "display_data"
    }
   ],
   "source": [
    "movie_named_list[[\"age\"]] <- 5\n",
    "movie_named_list"
   ]
  },
  {
   "cell_type": "code",
   "execution_count": 300,
   "metadata": {},
   "outputs": [
    {
     "data": {
      "text/html": [
       "<dl>\n",
       "\t<dt>$name</dt>\n",
       "\t\t<dd>'Toy Story'</dd>\n",
       "\t<dt>$year</dt>\n",
       "\t\t<dd>1995</dd>\n",
       "\t<dt>$genre</dt>\n",
       "\t\t<dd><ol class=list-inline>\n",
       "\t<li>'Animation'</li>\n",
       "\t<li>'Adventure'</li>\n",
       "\t<li>'Comedy'</li>\n",
       "</ol>\n",
       "</dd>\n",
       "\t<dt>$age</dt>\n",
       "\t\t<dd><ol class=list-inline>\n",
       "\t<li>5</li>\n",
       "\t<li>6</li>\n",
       "\t<li>7</li>\n",
       "</ol>\n",
       "</dd>\n",
       "</dl>\n"
      ],
      "text/latex": [
       "\\begin{description}\n",
       "\\item[\\$name] 'Toy Story'\n",
       "\\item[\\$year] 1995\n",
       "\\item[\\$genre] \\begin{enumerate*}\n",
       "\\item 'Animation'\n",
       "\\item 'Adventure'\n",
       "\\item 'Comedy'\n",
       "\\end{enumerate*}\n",
       "\n",
       "\\item[\\$age] \\begin{enumerate*}\n",
       "\\item 5\n",
       "\\item 6\n",
       "\\item 7\n",
       "\\end{enumerate*}\n",
       "\n",
       "\\end{description}\n"
      ],
      "text/markdown": [
       "$name\n",
       ":   'Toy Story'\n",
       "$year\n",
       ":   1995\n",
       "$genre\n",
       ":   1. 'Animation'\n",
       "2. 'Adventure'\n",
       "3. 'Comedy'\n",
       "\n",
       "\n",
       "\n",
       "$age\n",
       ":   1. 5\n",
       "2. 6\n",
       "3. 7\n",
       "\n",
       "\n",
       "\n",
       "\n",
       "\n"
      ],
      "text/plain": [
       "$name\n",
       "[1] \"Toy Story\"\n",
       "\n",
       "$year\n",
       "[1] 1995\n",
       "\n",
       "$genre\n",
       "[1] \"Animation\" \"Adventure\" \"Comedy\"   \n",
       "\n",
       "$age\n",
       "[1] 5 6 7\n"
      ]
     },
     "metadata": {},
     "output_type": "display_data"
    }
   ],
   "source": [
    "movie_named_list[[\"age\"]] <- c(5, 6, 7)\n",
    "movie_named_list"
   ]
  },
  {
   "cell_type": "markdown",
   "metadata": {},
   "source": [
    "Elements can be removed by assigning **NULL** value to a category withing named list."
   ]
  },
  {
   "cell_type": "code",
   "execution_count": 301,
   "metadata": {},
   "outputs": [
    {
     "data": {
      "text/html": [
       "<dl>\n",
       "\t<dt>$name</dt>\n",
       "\t\t<dd>'Toy Story'</dd>\n",
       "\t<dt>$year</dt>\n",
       "\t\t<dd>1995</dd>\n",
       "\t<dt>$genre</dt>\n",
       "\t\t<dd><ol class=list-inline>\n",
       "\t<li>'Animation'</li>\n",
       "\t<li>'Adventure'</li>\n",
       "\t<li>'Comedy'</li>\n",
       "</ol>\n",
       "</dd>\n",
       "</dl>\n"
      ],
      "text/latex": [
       "\\begin{description}\n",
       "\\item[\\$name] 'Toy Story'\n",
       "\\item[\\$year] 1995\n",
       "\\item[\\$genre] \\begin{enumerate*}\n",
       "\\item 'Animation'\n",
       "\\item 'Adventure'\n",
       "\\item 'Comedy'\n",
       "\\end{enumerate*}\n",
       "\n",
       "\\end{description}\n"
      ],
      "text/markdown": [
       "$name\n",
       ":   'Toy Story'\n",
       "$year\n",
       ":   1995\n",
       "$genre\n",
       ":   1. 'Animation'\n",
       "2. 'Adventure'\n",
       "3. 'Comedy'\n",
       "\n",
       "\n",
       "\n",
       "\n",
       "\n"
      ],
      "text/plain": [
       "$name\n",
       "[1] \"Toy Story\"\n",
       "\n",
       "$year\n",
       "[1] 1995\n",
       "\n",
       "$genre\n",
       "[1] \"Animation\" \"Adventure\" \"Comedy\"   \n"
      ]
     },
     "metadata": {},
     "output_type": "display_data"
    }
   ],
   "source": [
    "movie_named_list[[\"age\"]] <- NULL\n",
    "movie_named_list"
   ]
  },
  {
   "cell_type": "markdown",
   "metadata": {},
   "source": [
    "Concatenating two lists can be done by using them in a vector **c()**."
   ]
  },
  {
   "cell_type": "code",
   "execution_count": 302,
   "metadata": {},
   "outputs": [
    {
     "data": {
      "text/html": [
       "<dl>\n",
       "\t<dt>$name</dt>\n",
       "\t\t<dd>'Toy Story'</dd>\n",
       "\t<dt>$year</dt>\n",
       "\t\t<dd>1995</dd>\n",
       "\t<dt>$genre</dt>\n",
       "\t\t<dd><ol class=list-inline>\n",
       "\t<li>'Animation'</li>\n",
       "\t<li>'Adventure'</li>\n",
       "\t<li>'Comedy'</li>\n",
       "</ol>\n",
       "</dd>\n",
       "</dl>\n"
      ],
      "text/latex": [
       "\\begin{description}\n",
       "\\item[\\$name] 'Toy Story'\n",
       "\\item[\\$year] 1995\n",
       "\\item[\\$genre] \\begin{enumerate*}\n",
       "\\item 'Animation'\n",
       "\\item 'Adventure'\n",
       "\\item 'Comedy'\n",
       "\\end{enumerate*}\n",
       "\n",
       "\\end{description}\n"
      ],
      "text/markdown": [
       "$name\n",
       ":   'Toy Story'\n",
       "$year\n",
       ":   1995\n",
       "$genre\n",
       ":   1. 'Animation'\n",
       "2. 'Adventure'\n",
       "3. 'Comedy'\n",
       "\n",
       "\n",
       "\n",
       "\n",
       "\n"
      ],
      "text/plain": [
       "$name\n",
       "[1] \"Toy Story\"\n",
       "\n",
       "$year\n",
       "[1] 1995\n",
       "\n",
       "$genre\n",
       "[1] \"Animation\" \"Adventure\" \"Comedy\"   \n"
      ]
     },
     "metadata": {},
     "output_type": "display_data"
    }
   ],
   "source": [
    "# We split our previous list in two sublists\n",
    "movie_part1 <- list(name = \"Toy Story\")\n",
    "movie_part2 <- list(year = 1995, genre = c(\"Animation\", \"Adventure\", \"Comedy\"))\n",
    "\n",
    "# Now we call the function c() to put everything together again\n",
    "movie_concatenated <- c(movie_part1, movie_part2)\n",
    "\n",
    "# Check it out\n",
    "movie_concatenated"
   ]
  },
  {
   "cell_type": "markdown",
   "metadata": {},
   "source": [
    "## Data Frame"
   ]
  },
  {
   "cell_type": "markdown",
   "metadata": {},
   "source": [
    "A data frame is a ** named list of vectors of same length**. We create a data frame by using **data.frame()** function and pass named vectors to it."
   ]
  },
  {
   "cell_type": "code",
   "execution_count": 303,
   "metadata": {},
   "outputs": [
    {
     "data": {
      "text/html": [
       "<table>\n",
       "<thead><tr><th scope=col>name</th><th scope=col>year</th></tr></thead>\n",
       "<tbody>\n",
       "\t<tr><td>Toy Story         </td><td>1995              </td></tr>\n",
       "\t<tr><td>Akira             </td><td>1998              </td></tr>\n",
       "\t<tr><td>The Breakfast Club</td><td>1985              </td></tr>\n",
       "\t<tr><td>The Artist        </td><td>2011              </td></tr>\n",
       "\t<tr><td>Modern Times      </td><td>1936              </td></tr>\n",
       "\t<tr><td>Fight Club        </td><td>1999              </td></tr>\n",
       "\t<tr><td>City of God       </td><td>2002              </td></tr>\n",
       "\t<tr><td>The Untouchables  </td><td>1987              </td></tr>\n",
       "</tbody>\n",
       "</table>\n"
      ],
      "text/latex": [
       "\\begin{tabular}{r|ll}\n",
       " name & year\\\\\n",
       "\\hline\n",
       "\t Toy Story          & 1995              \\\\\n",
       "\t Akira              & 1998              \\\\\n",
       "\t The Breakfast Club & 1985              \\\\\n",
       "\t The Artist         & 2011              \\\\\n",
       "\t Modern Times       & 1936              \\\\\n",
       "\t Fight Club         & 1999              \\\\\n",
       "\t City of God        & 2002              \\\\\n",
       "\t The Untouchables   & 1987              \\\\\n",
       "\\end{tabular}\n"
      ],
      "text/markdown": [
       "\n",
       "name | year | \n",
       "|---|---|---|---|---|---|---|---|\n",
       "| Toy Story          | 1995               | \n",
       "| Akira              | 1998               | \n",
       "| The Breakfast Club | 1985               | \n",
       "| The Artist         | 2011               | \n",
       "| Modern Times       | 1936               | \n",
       "| Fight Club         | 1999               | \n",
       "| City of God        | 2002               | \n",
       "| The Untouchables   | 1987               | \n",
       "\n",
       "\n"
      ],
      "text/plain": [
       "  name               year\n",
       "1 Toy Story          1995\n",
       "2 Akira              1998\n",
       "3 The Breakfast Club 1985\n",
       "4 The Artist         2011\n",
       "5 Modern Times       1936\n",
       "6 Fight Club         1999\n",
       "7 City of God        2002\n",
       "8 The Untouchables   1987"
      ]
     },
     "metadata": {},
     "output_type": "display_data"
    }
   ],
   "source": [
    "movie_df <- data.frame(name = c(\"Toy Story\", \"Akira\", \"The Breakfast Club\", \"The Artist\",\n",
    "                                \"Modern Times\", \"Fight Club\", \"City of God\", \"The Untouchables\"),\n",
    "                        year = c(1995, 1998, 1985, 2011, 1936, 1999, 2002, 1987),\n",
    "                        stringsAsFactors=F)\n",
    "movie_df"
   ]
  },
  {
   "cell_type": "markdown",
   "metadata": {},
   "source": [
    "Data frame elements can be accessed similar to lists."
   ]
  },
  {
   "cell_type": "code",
   "execution_count": 304,
   "metadata": {},
   "outputs": [
    {
     "data": {
      "text/html": [
       "<ol class=list-inline>\n",
       "\t<li>'Toy Story'</li>\n",
       "\t<li>'Akira'</li>\n",
       "\t<li>'The Breakfast Club'</li>\n",
       "\t<li>'The Artist'</li>\n",
       "\t<li>'Modern Times'</li>\n",
       "\t<li>'Fight Club'</li>\n",
       "\t<li>'City of God'</li>\n",
       "\t<li>'The Untouchables'</li>\n",
       "</ol>\n"
      ],
      "text/latex": [
       "\\begin{enumerate*}\n",
       "\\item 'Toy Story'\n",
       "\\item 'Akira'\n",
       "\\item 'The Breakfast Club'\n",
       "\\item 'The Artist'\n",
       "\\item 'Modern Times'\n",
       "\\item 'Fight Club'\n",
       "\\item 'City of God'\n",
       "\\item 'The Untouchables'\n",
       "\\end{enumerate*}\n"
      ],
      "text/markdown": [
       "1. 'Toy Story'\n",
       "2. 'Akira'\n",
       "3. 'The Breakfast Club'\n",
       "4. 'The Artist'\n",
       "5. 'Modern Times'\n",
       "6. 'Fight Club'\n",
       "7. 'City of God'\n",
       "8. 'The Untouchables'\n",
       "\n",
       "\n"
      ],
      "text/plain": [
       "[1] \"Toy Story\"          \"Akira\"              \"The Breakfast Club\"\n",
       "[4] \"The Artist\"         \"Modern Times\"       \"Fight Club\"        \n",
       "[7] \"City of God\"        \"The Untouchables\"  "
      ]
     },
     "metadata": {},
     "output_type": "display_data"
    }
   ],
   "source": [
    "movie_df$name"
   ]
  },
  {
   "cell_type": "code",
   "execution_count": 305,
   "metadata": {},
   "outputs": [
    {
     "data": {
      "text/html": [
       "<table>\n",
       "<thead><tr><th scope=col>year</th></tr></thead>\n",
       "<tbody>\n",
       "\t<tr><td>1995</td></tr>\n",
       "\t<tr><td>1998</td></tr>\n",
       "\t<tr><td>1985</td></tr>\n",
       "\t<tr><td>2011</td></tr>\n",
       "\t<tr><td>1936</td></tr>\n",
       "\t<tr><td>1999</td></tr>\n",
       "\t<tr><td>2002</td></tr>\n",
       "\t<tr><td>1987</td></tr>\n",
       "</tbody>\n",
       "</table>\n"
      ],
      "text/latex": [
       "\\begin{tabular}{r|l}\n",
       " year\\\\\n",
       "\\hline\n",
       "\t 1995\\\\\n",
       "\t 1998\\\\\n",
       "\t 1985\\\\\n",
       "\t 2011\\\\\n",
       "\t 1936\\\\\n",
       "\t 1999\\\\\n",
       "\t 2002\\\\\n",
       "\t 1987\\\\\n",
       "\\end{tabular}\n"
      ],
      "text/markdown": [
       "\n",
       "year | \n",
       "|---|---|---|---|---|---|---|---|\n",
       "| 1995 | \n",
       "| 1998 | \n",
       "| 1985 | \n",
       "| 2011 | \n",
       "| 1936 | \n",
       "| 1999 | \n",
       "| 2002 | \n",
       "| 1987 | \n",
       "\n",
       "\n"
      ],
      "text/plain": [
       "  year\n",
       "1 1995\n",
       "2 1998\n",
       "3 1985\n",
       "4 2011\n",
       "5 1936\n",
       "6 1999\n",
       "7 2002\n",
       "8 1987"
      ]
     },
     "metadata": {},
     "output_type": "display_data"
    }
   ],
   "source": [
    "movie_df[\"year\"]"
   ]
  },
  {
   "cell_type": "code",
   "execution_count": 306,
   "metadata": {},
   "outputs": [
    {
     "data": {
      "text/html": [
       "<table>\n",
       "<thead><tr><th scope=col>name</th></tr></thead>\n",
       "<tbody>\n",
       "\t<tr><td>Toy Story         </td></tr>\n",
       "\t<tr><td>Akira             </td></tr>\n",
       "\t<tr><td>The Breakfast Club</td></tr>\n",
       "\t<tr><td>The Artist        </td></tr>\n",
       "\t<tr><td>Modern Times      </td></tr>\n",
       "\t<tr><td>Fight Club        </td></tr>\n",
       "\t<tr><td>City of God       </td></tr>\n",
       "\t<tr><td>The Untouchables  </td></tr>\n",
       "</tbody>\n",
       "</table>\n"
      ],
      "text/latex": [
       "\\begin{tabular}{r|l}\n",
       " name\\\\\n",
       "\\hline\n",
       "\t Toy Story         \\\\\n",
       "\t Akira             \\\\\n",
       "\t The Breakfast Club\\\\\n",
       "\t The Artist        \\\\\n",
       "\t Modern Times      \\\\\n",
       "\t Fight Club        \\\\\n",
       "\t City of God       \\\\\n",
       "\t The Untouchables  \\\\\n",
       "\\end{tabular}\n"
      ],
      "text/markdown": [
       "\n",
       "name | \n",
       "|---|---|---|---|---|---|---|---|\n",
       "| Toy Story          | \n",
       "| Akira              | \n",
       "| The Breakfast Club | \n",
       "| The Artist         | \n",
       "| Modern Times       | \n",
       "| Fight Club         | \n",
       "| City of God        | \n",
       "| The Untouchables   | \n",
       "\n",
       "\n"
      ],
      "text/plain": [
       "  name              \n",
       "1 Toy Story         \n",
       "2 Akira             \n",
       "3 The Breakfast Club\n",
       "4 The Artist        \n",
       "5 Modern Times      \n",
       "6 Fight Club        \n",
       "7 City of God       \n",
       "8 The Untouchables  "
      ]
     },
     "metadata": {},
     "output_type": "display_data"
    }
   ],
   "source": [
    "movie_df[1]"
   ]
  },
  {
   "cell_type": "code",
   "execution_count": 307,
   "metadata": {},
   "outputs": [
    {
     "data": {
      "text/html": [
       "<table>\n",
       "<thead><tr><th></th><th scope=col>name</th><th scope=col>year</th></tr></thead>\n",
       "<tbody>\n",
       "\t<tr><th scope=row>NA</th><td>NA</td><td>NA</td></tr>\n",
       "</tbody>\n",
       "</table>\n"
      ],
      "text/latex": [
       "\\begin{tabular}{r|ll}\n",
       "  & name & year\\\\\n",
       "\\hline\n",
       "\tNA & NA & NA\\\\\n",
       "\\end{tabular}\n"
      ],
      "text/markdown": [
       "\n",
       "| <!--/--> | name | year | \n",
       "|---|\n",
       "| NA | NA | NA | \n",
       "\n",
       "\n"
      ],
      "text/plain": [
       "   name year\n",
       "NA NA   NA  "
      ]
     },
     "metadata": {},
     "output_type": "display_data"
    }
   ],
   "source": [
    "movie_df[9,]"
   ]
  },
  {
   "cell_type": "markdown",
   "metadata": {},
   "source": [
    "**str()** function is widely used to obtain textual information about an object."
   ]
  },
  {
   "cell_type": "code",
   "execution_count": 308,
   "metadata": {},
   "outputs": [
    {
     "name": "stdout",
     "output_type": "stream",
     "text": [
      "'data.frame':\t8 obs. of  2 variables:\n",
      " $ name: chr  \"Toy Story\" \"Akira\" \"The Breakfast Club\" \"The Artist\" ...\n",
      " $ year: num  1995 1998 1985 2011 1936 ...\n",
      "List of 3\n",
      " $ name : chr \"Toy Story\"\n",
      " $ year : num 1995\n",
      " $ genre: chr [1:3] \"Animation\" \"Adventure\" \"Comedy\"\n",
      "List of 3\n",
      " $ : chr \"Toy Story\"\n",
      " $ : num 1995\n",
      " $ : chr [1:3] \"Animation\" \"Adventure\" \"Comedy\"\n",
      " chr [1:3, 1:3] \"Akira\" \"The Wave\" \"The Ring\" \"Toy Story\" \"Whiplash\" ...\n"
     ]
    }
   ],
   "source": [
    "str(movie_df)\n",
    "str(movie_named_list)\n",
    "str(movie_list)\n",
    "str(movie_matrix)"
   ]
  },
  {
   "cell_type": "code",
   "execution_count": 309,
   "metadata": {},
   "outputs": [
    {
     "data": {
      "text/html": [
       "'numeric'"
      ],
      "text/latex": [
       "'numeric'"
      ],
      "text/markdown": [
       "'numeric'"
      ],
      "text/plain": [
       "[1] \"numeric\""
      ]
     },
     "metadata": {},
     "output_type": "display_data"
    }
   ],
   "source": [
    "class(movie_df$year)"
   ]
  },
  {
   "cell_type": "code",
   "execution_count": 310,
   "metadata": {},
   "outputs": [
    {
     "data": {
      "text/html": [
       "1995"
      ],
      "text/latex": [
       "1995"
      ],
      "text/markdown": [
       "1995"
      ],
      "text/plain": [
       "[1] 1995"
      ]
     },
     "metadata": {},
     "output_type": "display_data"
    }
   ],
   "source": [
    "movie_df[1,2]  #row-1, coloumn-2"
   ]
  },
  {
   "cell_type": "markdown",
   "metadata": {},
   "source": [
    "**head()** function is used to **dislay the first 6 rows** of a data frame or an event list. Similarly, the **tail()** function is used to **display the last 6 rows**."
   ]
  },
  {
   "cell_type": "code",
   "execution_count": 311,
   "metadata": {},
   "outputs": [
    {
     "data": {
      "text/html": [
       "<table>\n",
       "<thead><tr><th scope=col>name</th><th scope=col>year</th></tr></thead>\n",
       "<tbody>\n",
       "\t<tr><td>Toy Story         </td><td>1995              </td></tr>\n",
       "\t<tr><td>Akira             </td><td>1998              </td></tr>\n",
       "\t<tr><td>The Breakfast Club</td><td>1985              </td></tr>\n",
       "\t<tr><td>The Artist        </td><td>2011              </td></tr>\n",
       "\t<tr><td>Modern Times      </td><td>1936              </td></tr>\n",
       "\t<tr><td>Fight Club        </td><td>1999              </td></tr>\n",
       "</tbody>\n",
       "</table>\n"
      ],
      "text/latex": [
       "\\begin{tabular}{r|ll}\n",
       " name & year\\\\\n",
       "\\hline\n",
       "\t Toy Story          & 1995              \\\\\n",
       "\t Akira              & 1998              \\\\\n",
       "\t The Breakfast Club & 1985              \\\\\n",
       "\t The Artist         & 2011              \\\\\n",
       "\t Modern Times       & 1936              \\\\\n",
       "\t Fight Club         & 1999              \\\\\n",
       "\\end{tabular}\n"
      ],
      "text/markdown": [
       "\n",
       "name | year | \n",
       "|---|---|---|---|---|---|\n",
       "| Toy Story          | 1995               | \n",
       "| Akira              | 1998               | \n",
       "| The Breakfast Club | 1985               | \n",
       "| The Artist         | 2011               | \n",
       "| Modern Times       | 1936               | \n",
       "| Fight Club         | 1999               | \n",
       "\n",
       "\n"
      ],
      "text/plain": [
       "  name               year\n",
       "1 Toy Story          1995\n",
       "2 Akira              1998\n",
       "3 The Breakfast Club 1985\n",
       "4 The Artist         2011\n",
       "5 Modern Times       1936\n",
       "6 Fight Club         1999"
      ]
     },
     "metadata": {},
     "output_type": "display_data"
    }
   ],
   "source": [
    "head(movie_df)"
   ]
  },
  {
   "cell_type": "code",
   "execution_count": 312,
   "metadata": {},
   "outputs": [
    {
     "data": {
      "text/html": [
       "<table>\n",
       "<thead><tr><th></th><th scope=col>name</th><th scope=col>year</th></tr></thead>\n",
       "<tbody>\n",
       "\t<tr><th scope=row>3</th><td>The Breakfast Club</td><td>1985              </td></tr>\n",
       "\t<tr><th scope=row>4</th><td>The Artist        </td><td>2011              </td></tr>\n",
       "\t<tr><th scope=row>5</th><td>Modern Times      </td><td>1936              </td></tr>\n",
       "\t<tr><th scope=row>6</th><td>Fight Club        </td><td>1999              </td></tr>\n",
       "\t<tr><th scope=row>7</th><td>City of God       </td><td>2002              </td></tr>\n",
       "\t<tr><th scope=row>8</th><td>The Untouchables  </td><td>1987              </td></tr>\n",
       "</tbody>\n",
       "</table>\n"
      ],
      "text/latex": [
       "\\begin{tabular}{r|ll}\n",
       "  & name & year\\\\\n",
       "\\hline\n",
       "\t3 & The Breakfast Club & 1985              \\\\\n",
       "\t4 & The Artist         & 2011              \\\\\n",
       "\t5 & Modern Times       & 1936              \\\\\n",
       "\t6 & Fight Club         & 1999              \\\\\n",
       "\t7 & City of God        & 2002              \\\\\n",
       "\t8 & The Untouchables   & 1987              \\\\\n",
       "\\end{tabular}\n"
      ],
      "text/markdown": [
       "\n",
       "| <!--/--> | name | year | \n",
       "|---|---|---|---|---|---|\n",
       "| 3 | The Breakfast Club | 1985               | \n",
       "| 4 | The Artist         | 2011               | \n",
       "| 5 | Modern Times       | 1936               | \n",
       "| 6 | Fight Club         | 1999               | \n",
       "| 7 | City of God        | 2002               | \n",
       "| 8 | The Untouchables   | 1987               | \n",
       "\n",
       "\n"
      ],
      "text/plain": [
       "  name               year\n",
       "3 The Breakfast Club 1985\n",
       "4 The Artist         2011\n",
       "5 Modern Times       1936\n",
       "6 Fight Club         1999\n",
       "7 City of God        2002\n",
       "8 The Untouchables   1987"
      ]
     },
     "metadata": {},
     "output_type": "display_data"
    }
   ],
   "source": [
    "tail(movie_df)"
   ]
  },
  {
   "cell_type": "markdown",
   "metadata": {},
   "source": [
    "New coloumns can be added by specifying the column names within **square brackets []** and assigning a vector to them."
   ]
  },
  {
   "cell_type": "code",
   "execution_count": 313,
   "metadata": {},
   "outputs": [
    {
     "data": {
      "text/html": [
       "<table>\n",
       "<thead><tr><th scope=col>name</th><th scope=col>year</th><th scope=col>length</th></tr></thead>\n",
       "<tbody>\n",
       "\t<tr><td>Toy Story         </td><td>1995              </td><td> 81               </td></tr>\n",
       "\t<tr><td>Akira             </td><td>1998              </td><td>125               </td></tr>\n",
       "\t<tr><td>The Breakfast Club</td><td>1985              </td><td> 97               </td></tr>\n",
       "\t<tr><td>The Artist        </td><td>2011              </td><td>100               </td></tr>\n",
       "\t<tr><td>Modern Times      </td><td>1936              </td><td> 87               </td></tr>\n",
       "\t<tr><td>Fight Club        </td><td>1999              </td><td>139               </td></tr>\n",
       "\t<tr><td>City of God       </td><td>2002              </td><td>130               </td></tr>\n",
       "\t<tr><td>The Untouchables  </td><td>1987              </td><td>119               </td></tr>\n",
       "</tbody>\n",
       "</table>\n"
      ],
      "text/latex": [
       "\\begin{tabular}{r|lll}\n",
       " name & year & length\\\\\n",
       "\\hline\n",
       "\t Toy Story          & 1995               &  81               \\\\\n",
       "\t Akira              & 1998               & 125               \\\\\n",
       "\t The Breakfast Club & 1985               &  97               \\\\\n",
       "\t The Artist         & 2011               & 100               \\\\\n",
       "\t Modern Times       & 1936               &  87               \\\\\n",
       "\t Fight Club         & 1999               & 139               \\\\\n",
       "\t City of God        & 2002               & 130               \\\\\n",
       "\t The Untouchables   & 1987               & 119               \\\\\n",
       "\\end{tabular}\n"
      ],
      "text/markdown": [
       "\n",
       "name | year | length | \n",
       "|---|---|---|---|---|---|---|---|\n",
       "| Toy Story          | 1995               |  81                | \n",
       "| Akira              | 1998               | 125                | \n",
       "| The Breakfast Club | 1985               |  97                | \n",
       "| The Artist         | 2011               | 100                | \n",
       "| Modern Times       | 1936               |  87                | \n",
       "| Fight Club         | 1999               | 139                | \n",
       "| City of God        | 2002               | 130                | \n",
       "| The Untouchables   | 1987               | 119                | \n",
       "\n",
       "\n"
      ],
      "text/plain": [
       "  name               year length\n",
       "1 Toy Story          1995  81   \n",
       "2 Akira              1998 125   \n",
       "3 The Breakfast Club 1985  97   \n",
       "4 The Artist         2011 100   \n",
       "5 Modern Times       1936  87   \n",
       "6 Fight Club         1999 139   \n",
       "7 City of God        2002 130   \n",
       "8 The Untouchables   1987 119   "
      ]
     },
     "metadata": {},
     "output_type": "display_data"
    }
   ],
   "source": [
    "movie_df['length'] <- c(81, 125, 97, 100, 87, 139, 130, 119)\n",
    "movie_df"
   ]
  },
  {
   "cell_type": "markdown",
   "metadata": {},
   "source": [
    "New rows can be added using the **rbind()** function."
   ]
  },
  {
   "cell_type": "code",
   "execution_count": 314,
   "metadata": {},
   "outputs": [
    {
     "data": {
      "text/html": [
       "<table>\n",
       "<thead><tr><th scope=col>name</th><th scope=col>year</th><th scope=col>length</th></tr></thead>\n",
       "<tbody>\n",
       "\t<tr><td>Toy Story         </td><td>1995              </td><td>81                </td></tr>\n",
       "\t<tr><td>Akira             </td><td>1998              </td><td>125               </td></tr>\n",
       "\t<tr><td>The Breakfast Club</td><td>1985              </td><td>97                </td></tr>\n",
       "\t<tr><td>The Artist        </td><td>2011              </td><td>100               </td></tr>\n",
       "\t<tr><td>Modern Times      </td><td>1936              </td><td>87                </td></tr>\n",
       "\t<tr><td>Fight Club        </td><td>1999              </td><td>139               </td></tr>\n",
       "\t<tr><td>City of God       </td><td>2002              </td><td>130               </td></tr>\n",
       "\t<tr><td>The Untouchables  </td><td>1987              </td><td>119               </td></tr>\n",
       "\t<tr><td>Dr. Strangelove   </td><td>1964              </td><td>94                </td></tr>\n",
       "</tbody>\n",
       "</table>\n"
      ],
      "text/latex": [
       "\\begin{tabular}{r|lll}\n",
       " name & year & length\\\\\n",
       "\\hline\n",
       "\t Toy Story          & 1995               & 81                \\\\\n",
       "\t Akira              & 1998               & 125               \\\\\n",
       "\t The Breakfast Club & 1985               & 97                \\\\\n",
       "\t The Artist         & 2011               & 100               \\\\\n",
       "\t Modern Times       & 1936               & 87                \\\\\n",
       "\t Fight Club         & 1999               & 139               \\\\\n",
       "\t City of God        & 2002               & 130               \\\\\n",
       "\t The Untouchables   & 1987               & 119               \\\\\n",
       "\t Dr. Strangelove    & 1964               & 94                \\\\\n",
       "\\end{tabular}\n"
      ],
      "text/markdown": [
       "\n",
       "name | year | length | \n",
       "|---|---|---|---|---|---|---|---|---|\n",
       "| Toy Story          | 1995               | 81                 | \n",
       "| Akira              | 1998               | 125                | \n",
       "| The Breakfast Club | 1985               | 97                 | \n",
       "| The Artist         | 2011               | 100                | \n",
       "| Modern Times       | 1936               | 87                 | \n",
       "| Fight Club         | 1999               | 139                | \n",
       "| City of God        | 2002               | 130                | \n",
       "| The Untouchables   | 1987               | 119                | \n",
       "| Dr. Strangelove    | 1964               | 94                 | \n",
       "\n",
       "\n"
      ],
      "text/plain": [
       "  name               year length\n",
       "1 Toy Story          1995 81    \n",
       "2 Akira              1998 125   \n",
       "3 The Breakfast Club 1985 97    \n",
       "4 The Artist         2011 100   \n",
       "5 Modern Times       1936 87    \n",
       "6 Fight Club         1999 139   \n",
       "7 City of God        2002 130   \n",
       "8 The Untouchables   1987 119   \n",
       "9 Dr. Strangelove    1964 94    "
      ]
     },
     "metadata": {},
     "output_type": "display_data"
    }
   ],
   "source": [
    "movie_df <- rbind(movie_df, c(name=\"Dr. Strangelove\", year=1964, length=94))\n",
    "movie_df"
   ]
  },
  {
   "cell_type": "markdown",
   "metadata": {},
   "source": [
    "To remove rows we can specify the **negative index followed by a comma within square brackets []**"
   ]
  },
  {
   "cell_type": "code",
   "execution_count": 315,
   "metadata": {},
   "outputs": [
    {
     "data": {
      "text/html": [
       "<table>\n",
       "<thead><tr><th scope=col>name</th><th scope=col>year</th><th scope=col>length</th></tr></thead>\n",
       "<tbody>\n",
       "\t<tr><td>Toy Story         </td><td>1995              </td><td>81                </td></tr>\n",
       "\t<tr><td>Akira             </td><td>1998              </td><td>125               </td></tr>\n",
       "\t<tr><td>The Breakfast Club</td><td>1985              </td><td>97                </td></tr>\n",
       "\t<tr><td>The Artist        </td><td>2011              </td><td>100               </td></tr>\n",
       "\t<tr><td>Modern Times      </td><td>1936              </td><td>87                </td></tr>\n",
       "\t<tr><td>Fight Club        </td><td>1999              </td><td>139               </td></tr>\n",
       "\t<tr><td>City of God       </td><td>2002              </td><td>130               </td></tr>\n",
       "\t<tr><td>The Untouchables  </td><td>1987              </td><td>119               </td></tr>\n",
       "</tbody>\n",
       "</table>\n"
      ],
      "text/latex": [
       "\\begin{tabular}{r|lll}\n",
       " name & year & length\\\\\n",
       "\\hline\n",
       "\t Toy Story          & 1995               & 81                \\\\\n",
       "\t Akira              & 1998               & 125               \\\\\n",
       "\t The Breakfast Club & 1985               & 97                \\\\\n",
       "\t The Artist         & 2011               & 100               \\\\\n",
       "\t Modern Times       & 1936               & 87                \\\\\n",
       "\t Fight Club         & 1999               & 139               \\\\\n",
       "\t City of God        & 2002               & 130               \\\\\n",
       "\t The Untouchables   & 1987               & 119               \\\\\n",
       "\\end{tabular}\n"
      ],
      "text/markdown": [
       "\n",
       "name | year | length | \n",
       "|---|---|---|---|---|---|---|---|\n",
       "| Toy Story          | 1995               | 81                 | \n",
       "| Akira              | 1998               | 125                | \n",
       "| The Breakfast Club | 1985               | 97                 | \n",
       "| The Artist         | 2011               | 100                | \n",
       "| Modern Times       | 1936               | 87                 | \n",
       "| Fight Club         | 1999               | 139                | \n",
       "| City of God        | 2002               | 130                | \n",
       "| The Untouchables   | 1987               | 119                | \n",
       "\n",
       "\n"
      ],
      "text/plain": [
       "  name               year length\n",
       "1 Toy Story          1995 81    \n",
       "2 Akira              1998 125   \n",
       "3 The Breakfast Club 1985 97    \n",
       "4 The Artist         2011 100   \n",
       "5 Modern Times       1936 87    \n",
       "6 Fight Club         1999 139   \n",
       "7 City of God        2002 130   \n",
       "8 The Untouchables   1987 119   "
      ]
     },
     "metadata": {},
     "output_type": "display_data"
    }
   ],
   "source": [
    "movie_df <- movie_df[-9,]\n",
    "movie_df"
   ]
  },
  {
   "cell_type": "markdown",
   "metadata": {},
   "source": [
    "To remove a column we assign a **NULL** value to it"
   ]
  },
  {
   "cell_type": "code",
   "execution_count": 316,
   "metadata": {},
   "outputs": [
    {
     "data": {
      "text/html": [
       "<table>\n",
       "<thead><tr><th scope=col>name</th><th scope=col>year</th></tr></thead>\n",
       "<tbody>\n",
       "\t<tr><td>Toy Story         </td><td>1995              </td></tr>\n",
       "\t<tr><td>Akira             </td><td>1998              </td></tr>\n",
       "\t<tr><td>The Breakfast Club</td><td>1985              </td></tr>\n",
       "\t<tr><td>The Artist        </td><td>2011              </td></tr>\n",
       "\t<tr><td>Modern Times      </td><td>1936              </td></tr>\n",
       "\t<tr><td>Fight Club        </td><td>1999              </td></tr>\n",
       "\t<tr><td>City of God       </td><td>2002              </td></tr>\n",
       "\t<tr><td>The Untouchables  </td><td>1987              </td></tr>\n",
       "</tbody>\n",
       "</table>\n"
      ],
      "text/latex": [
       "\\begin{tabular}{r|ll}\n",
       " name & year\\\\\n",
       "\\hline\n",
       "\t Toy Story          & 1995              \\\\\n",
       "\t Akira              & 1998              \\\\\n",
       "\t The Breakfast Club & 1985              \\\\\n",
       "\t The Artist         & 2011              \\\\\n",
       "\t Modern Times       & 1936              \\\\\n",
       "\t Fight Club         & 1999              \\\\\n",
       "\t City of God        & 2002              \\\\\n",
       "\t The Untouchables   & 1987              \\\\\n",
       "\\end{tabular}\n"
      ],
      "text/markdown": [
       "\n",
       "name | year | \n",
       "|---|---|---|---|---|---|---|---|\n",
       "| Toy Story          | 1995               | \n",
       "| Akira              | 1998               | \n",
       "| The Breakfast Club | 1985               | \n",
       "| The Artist         | 2011               | \n",
       "| Modern Times       | 1936               | \n",
       "| Fight Club         | 1999               | \n",
       "| City of God        | 2002               | \n",
       "| The Untouchables   | 1987               | \n",
       "\n",
       "\n"
      ],
      "text/plain": [
       "  name               year\n",
       "1 Toy Story          1995\n",
       "2 Akira              1998\n",
       "3 The Breakfast Club 1985\n",
       "4 The Artist         2011\n",
       "5 Modern Times       1936\n",
       "6 Fight Club         1999\n",
       "7 City of God        2002\n",
       "8 The Untouchables   1987"
      ]
     },
     "metadata": {},
     "output_type": "display_data"
    }
   ],
   "source": [
    "movie_df[[\"length\"]] <- NULL\n",
    "movie_df"
   ]
  }
 ],
 "metadata": {
  "kernelspec": {
   "display_name": "R",
   "language": "R",
   "name": "ir"
  },
  "language_info": {
   "codemirror_mode": "r",
   "file_extension": ".r",
   "mimetype": "text/x-r-source",
   "name": "R",
   "pygments_lexer": "r",
   "version": "3.4.1"
  }
 },
 "nbformat": 4,
 "nbformat_minor": 2
}
