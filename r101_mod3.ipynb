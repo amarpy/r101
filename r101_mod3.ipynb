{
 "cells": [
  {
   "cell_type": "markdown",
   "metadata": {},
   "source": [
    "** This is a practice notebook for R101 course on webssite : ** ***[cognitiveclass.ai](https://cognitiveclass.ai/courses/r-101/)***"
   ]
  },
  {
   "cell_type": "markdown",
   "metadata": {},
   "source": [
    "# Conditions and Loops"
   ]
  },
  {
   "cell_type": "markdown",
   "metadata": {},
   "source": [
    "Conditional statements and Loops are the **control statements** that are able to **change the execution flow**."
   ]
  },
  {
   "cell_type": "markdown",
   "metadata": {},
   "source": [
    "## If Statements"
   ]
  },
  {
   "cell_type": "markdown",
   "metadata": {},
   "source": [
    "An **if** statement is used to execute downstream code depending on whether a given condition is **TRUE**. The condition check is written within **brackets ( )** and the code block is written within **curly brackets { }**"
   ]
  },
  {
   "cell_type": "markdown",
   "metadata": {},
   "source": [
    "An **else** statement is used along with **if** statement to execute downstream code when the **if** statement condition is **FALSE**."
   ]
  },
  {
   "cell_type": "markdown",
   "metadata": {},
   "source": [
    "**Syntax:** \n",
    "\n",
    "if (condition) {\n",
    "    # do something\n",
    "}else {\n",
    "    # do something else\n",
    "}"
   ]
  },
  {
   "cell_type": "code",
   "execution_count": 1,
   "metadata": {},
   "outputs": [
    {
     "name": "stdout",
     "output_type": "stream",
     "text": [
      "[1] \"Movie year is greater than 2000\"\n"
     ]
    }
   ],
   "source": [
    "movie_year = 2003\n",
    "\n",
    "if(movie_year > 2000){\n",
    "    print(\"Movie year is greater than 2000\")\n",
    "}"
   ]
  },
  {
   "cell_type": "code",
   "execution_count": 2,
   "metadata": {},
   "outputs": [
    {
     "name": "stdout",
     "output_type": "stream",
     "text": [
      "[1] \"Movie year is not greater than 2000\"\n"
     ]
    }
   ],
   "source": [
    "movie_year = 1997\n",
    "\n",
    "if(movie_year > 2000){\n",
    "    print(\"Movie year is greater than 2000\")\n",
    "}else{\n",
    "    print(\"Movie year is not greater than 2000\")\n",
    "}"
   ]
  },
  {
   "cell_type": "markdown",
   "metadata": {},
   "source": [
    "**Comparison operators** and **logical operators** can be used within the **if** conition."
   ]
  },
  {
   "cell_type": "markdown",
   "metadata": {},
   "source": [
    "**Comparison operators** can be:  equal to** == **; not equal to ** != **; greater than ** > **; less than ** < **; greater than or equal to ** >= **; less than or equal to ** <= **"
   ]
  },
  {
   "cell_type": "markdown",
   "metadata": {},
   "source": [
    "**Logical operators** can be: logical AND ** & **; logical OR ** | ** ; logical NOT ** ! **"
   ]
  },
  {
   "cell_type": "code",
   "execution_count": 3,
   "metadata": {},
   "outputs": [
    {
     "name": "stdout",
     "output_type": "stream",
     "text": [
      "[1] \"Movie year between 1990 and 2000\"\n",
      "[1] \"Movie year is not between 2000 and 2010\"\n",
      "[1] \"Movie year is 1997\"\n"
     ]
    }
   ],
   "source": [
    "movie_year = 1997\n",
    "\n",
    "if(movie_year < 2000 & movie_year > 1990 ) {\n",
    "    print(\"Movie year between 1990 and 2000\") \n",
    "}\n",
    "if(movie_year > 2010 | movie_year < 2000 ){\n",
    "    print(\"Movie year is not between 2000 and 2010\") \n",
    "}\n",
    "if(movie_year >= 1996 & movie_year <= 1998 | movie_year == 1997 ){\n",
    "    print(\"Movie year is 1997\") \n",
    "}"
   ]
  },
  {
   "cell_type": "markdown",
   "metadata": {},
   "source": [
    "<hr>"
   ]
  },
  {
   "cell_type": "markdown",
   "metadata": {},
   "source": [
    "#### Reading movie_data dataset from an online repository"
   ]
  },
  {
   "cell_type": "code",
   "execution_count": null,
   "metadata": {
    "collapsed": true
   },
   "outputs": [],
   "source": [
    "movies_data <- read.csv(\"https://ibm.box.com/shared/static/n5ay5qadfe7e1nnsv5s01oe1x62mq51j.csv\", header=TRUE, sep=\",\")"
   ]
  },
  {
   "cell_type": "code",
   "execution_count": null,
   "metadata": {},
   "outputs": [],
   "source": [
    "head(movies_data)"
   ]
  },
  {
   "cell_type": "markdown",
   "metadata": {},
   "source": [
    "<hr>"
   ]
  },
  {
   "cell_type": "markdown",
   "metadata": {},
   "source": [
    "## Subset"
   ]
  },
  {
   "cell_type": "markdown",
   "metadata": {},
   "source": [
    "We can retrieve only a subset of data from a file which satisfies certain conditions"
   ]
  },
  {
   "cell_type": "code",
   "execution_count": null,
   "metadata": {
    "scrolled": true
   },
   "outputs": [],
   "source": [
    "decade = 'recent'\n",
    "\n",
    "if (decade == 'recent'){\n",
    "    subset(movies_data, year >= 2000)\n",
    "}else{\n",
    "    subset(movies_data, year <= 2000)\n",
    "}"
   ]
  },
  {
   "cell_type": "markdown",
   "metadata": {},
   "source": [
    "# Loops"
   ]
  },
  {
   "cell_type": "markdown",
   "metadata": {},
   "source": [
    "Loops are used when we wish to repeat a **code block execution multiple times**. There are two two loops: the **while** loop and the **for** loop"
   ]
  },
  {
   "cell_type": "markdown",
   "metadata": {},
   "source": [
    "# The `for` loop"
   ]
  },
  {
   "cell_type": "markdown",
   "metadata": {},
   "source": [
    "The **for** loop is used for a controlled flow of repetition. The **for** loop is used to execute a code block once for every element in a given structure"
   ]
  },
  {
   "cell_type": "code",
   "execution_count": null,
   "metadata": {},
   "outputs": [],
   "source": [
    "years <- movies_data['year']\n",
    "\n",
    "for (val in years){\n",
    "    print(val)\n",
    "}"
   ]
  },
  {
   "cell_type": "code",
   "execution_count": null,
   "metadata": {
    "collapsed": true
   },
   "outputs": [],
   "source": []
  }
 ],
 "metadata": {
  "kernelspec": {
   "display_name": "R",
   "language": "R",
   "name": "ir"
  },
  "language_info": {
   "codemirror_mode": "r",
   "file_extension": ".r",
   "mimetype": "text/x-r-source",
   "name": "R",
   "pygments_lexer": "r",
   "version": "3.4.1"
  }
 },
 "nbformat": 4,
 "nbformat_minor": 2
}
