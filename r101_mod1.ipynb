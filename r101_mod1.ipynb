{
 "cells": [
  {
   "cell_type": "markdown",
   "metadata": {},
   "source": [
    "** This is a practice notebook for R101 course on webssite : ** ***[cognitiveclass.ai](https://cognitiveclass.ai/courses/r-101/)***"
   ]
  },
  {
   "cell_type": "markdown",
   "metadata": {},
   "source": [
    "# Math variables and strings"
   ]
  },
  {
   "cell_type": "markdown",
   "metadata": {},
   "source": [
    "R supports basic mathematical operations like **addition**, **subtraction**, **multiplication**, **division** and **exponentiation**.\n",
    "It also supports **comparison** and **logical** operators.\n",
    "Variables store values of data. Values can be assigned to variables using a **\"<-\"** operator or an **\"=\"** operator(not commonly used).\n",
    "Always use meaningful variable names using an **underscore between words**.\n"
   ]
  },
  {
   "cell_type": "code",
   "execution_count": null,
   "metadata": {},
   "outputs": [],
   "source": [
    "distance_1_in_mts <- 1500\n",
    "distance_2_in_mts <- 1000\n",
    "time_in_min <- 15\n",
    "\n",
    "speed <- (distance_1_in_mts + distance_2_in_mts) / (time_in_min * 60)\n",
    "speed"
   ]
  },
  {
   "cell_type": "markdown",
   "metadata": {},
   "source": [
    "Strings can be assigned to variables but they need to be enclosed between quotes **double quotes \" \"** or ** single quotes' '**.\n"
   ]
  },
  {
   "cell_type": "code",
   "execution_count": null,
   "metadata": {},
   "outputs": [],
   "source": [
    "name_1 <- 'john doe'\n",
    "name_2 <- \"jane doe\"\n",
    "\n",
    "name_1\n",
    "name_2"
   ]
  },
  {
   "cell_type": "markdown",
   "metadata": {},
   "source": [
    "# Vectors and factors"
   ]
  },
  {
   "cell_type": "markdown",
   "metadata": {},
   "source": [
    "## Vectors"
   ]
  },
  {
   "cell_type": "markdown",
   "metadata": {},
   "source": [
    "A vector is a one dimension array of objects. It is a simple tool to store data. \n",
    "In R, there is no restriction to type and number of objects a vector can contain.\n",
    "A vector is created by enclosing the values within a **c()** separated by commas.\n",
    "The **items in a vector must be of the same class**."
   ]
  },
  {
   "cell_type": "code",
   "execution_count": null,
   "metadata": {},
   "outputs": [],
   "source": [
    "distances <- c(1500, 1000)\n",
    "distances"
   ]
  },
  {
   "cell_type": "markdown",
   "metadata": {},
   "source": [
    "Mathematical operations on vectors are performed on each element of the vector"
   ]
  },
  {
   "cell_type": "code",
   "execution_count": null,
   "metadata": {},
   "outputs": [],
   "source": [
    "speeds <- distances / time_in_min\n",
    "speeds"
   ]
  },
  {
   "cell_type": "markdown",
   "metadata": {},
   "source": [
    "Vectors containing a range of numbers can also be created."
   ]
  },
  {
   "cell_type": "code",
   "execution_count": null,
   "metadata": {},
   "outputs": [],
   "source": [
    "one_to_ten <- c(1:10)\n",
    "one_to_ten\n",
    "\n",
    "reverse_one_to_ten <- c(10:1)\n",
    "reverse_one_to_ten"
   ]
  },
  {
   "cell_type": "markdown",
   "metadata": {},
   "source": [
    "Vectors can also be used to store labels or strings"
   ]
  },
  {
   "cell_type": "code",
   "execution_count": null,
   "metadata": {},
   "outputs": [],
   "source": [
    "names <- c(\"jane doe\", \"john doe\")\n",
    "names"
   ]
  },
  {
   "cell_type": "markdown",
   "metadata": {},
   "source": [
    "Logical vector is simply a \"True\" or \"False\".\n",
    "Logical vectors are created usually by comparison or logical operators."
   ]
  },
  {
   "cell_type": "code",
   "execution_count": null,
   "metadata": {},
   "outputs": [],
   "source": [
    "movie_ratings <- c(7.5, 6.0, 5.0, 5.3, 8.6, 9.0, 4.0, 7.9, 9.5, 3.6)\n",
    "movie_ratings >= 7.5"
   ]
  },
  {
   "cell_type": "markdown",
   "metadata": {},
   "source": [
    "## Factors"
   ]
  },
  {
   "cell_type": "markdown",
   "metadata": {},
   "source": [
    "In R, factors are variables that can take on a **limited number of values**.\n",
    "Usually applied on **categorical variables** or **labels**."
   ]
  },
  {
   "cell_type": "markdown",
   "metadata": {},
   "source": [
    "**summary()** function can be applied on vectors and factors to get summarize them."
   ]
  },
  {
   "cell_type": "code",
   "execution_count": null,
   "metadata": {},
   "outputs": [],
   "source": [
    "genre_vector <- c(\"Comedy\", \"Thriller\", \"Adventure\", \"History\", \"Comedy\", \"Adventure\", \"Drama\", \"Drama\", \"Fantasy\", \"Comedy\")\n",
    "genre_vector\n",
    "\n",
    "summary(genre_vector)"
   ]
  },
  {
   "cell_type": "markdown",
   "metadata": {},
   "source": [
    "Factor summary provides the number of occurances of each label."
   ]
  },
  {
   "cell_type": "code",
   "execution_count": null,
   "metadata": {},
   "outputs": [],
   "source": [
    "genre_factor <- factor(genre_vector)\n",
    "genre_factor\n",
    "\n",
    "summary(genre_factor)"
   ]
  },
  {
   "cell_type": "markdown",
   "metadata": {},
   "source": [
    "### Ordered factors"
   ]
  },
  {
   "cell_type": "markdown",
   "metadata": {},
   "source": [
    "Ordered factors are the factors that have an inherent order. Vectors (ordinal categorical) can be given a order by converting them to factors and specifying a level of order."
   ]
  },
  {
   "cell_type": "code",
   "execution_count": null,
   "metadata": {},
   "outputs": [],
   "source": [
    "# unordered vector\n",
    "movie_length_vector <- c(\"short\", \"long\", \"medium\", \"very short\", \"very long\", \"short\", \"long\", \"short\", \"long\", \"long\")\n",
    "\n",
    "# ordered factor\n",
    "movie_length_factor <- factor(movie_length_vector, \n",
    "                             ordered = TRUE,\n",
    "                             levels = c(\"very short\", \"short\", \"medium\", \"long\", \"very long\"))\n",
    "\n",
    "summary(movie_length_factor)"
   ]
  },
  {
   "cell_type": "markdown",
   "metadata": {},
   "source": [
    "The output of summary() can be sorted using **sort()**"
   ]
  },
  {
   "cell_type": "code",
   "execution_count": null,
   "metadata": {},
   "outputs": [],
   "source": [
    "sort(summary(movie_length_factor))"
   ]
  },
  {
   "cell_type": "markdown",
   "metadata": {},
   "source": [
    "## Vector operations"
   ]
  },
  {
   "cell_type": "markdown",
   "metadata": {},
   "source": [
    "Retrieve particular values from the vectors using **square brackets []**."
   ]
  },
  {
   "cell_type": "code",
   "execution_count": null,
   "metadata": {},
   "outputs": [],
   "source": [
    "titles <- c(\"Toy Story\", \"Akira\", \"The Breakfast Club\", \"Lord of The Rings\")\n",
    "\n",
    "titles[3]"
   ]
  },
  {
   "cell_type": "markdown",
   "metadata": {},
   "source": [
    "To retrieve more than one elements "
   ]
  },
  {
   "cell_type": "code",
   "execution_count": null,
   "metadata": {},
   "outputs": [],
   "source": [
    "# find elements 2 and 4.\n",
    "titles[c(2,4)]"
   ]
  },
  {
   "cell_type": "markdown",
   "metadata": {},
   "source": [
    "Retrieve a range of elements using a **colon symbol :**"
   ]
  },
  {
   "cell_type": "code",
   "execution_count": null,
   "metadata": {},
   "outputs": [],
   "source": [
    "# find elements 2 to 4, i.e. 2, 3 and 4\n",
    "titles[2:4]"
   ]
  },
  {
   "cell_type": "markdown",
   "metadata": {},
   "source": [
    "If we retrieve an element which does not exist, R will show a **missing value NA**."
   ]
  },
  {
   "cell_type": "code",
   "execution_count": null,
   "metadata": {},
   "outputs": [],
   "source": [
    "titles[5]"
   ]
  },
  {
   "cell_type": "markdown",
   "metadata": {},
   "source": [
    "Missing values can also be added in a vector by using **NA**."
   ]
  },
  {
   "cell_type": "code",
   "execution_count": null,
   "metadata": {},
   "outputs": [],
   "source": [
    "age_restric <- c(14, 12, 10, NA, 18, NA)\n",
    "age_restric"
   ]
  },
  {
   "cell_type": "markdown",
   "metadata": {},
   "source": [
    "Length of a vector can be found using **length()**"
   ]
  },
  {
   "cell_type": "code",
   "execution_count": null,
   "metadata": {},
   "outputs": [],
   "source": [
    "length(age_restric)"
   ]
  },
  {
   "cell_type": "markdown",
   "metadata": {},
   "source": [
    "We can perform aritmetic operations between 2 vectors"
   ]
  },
  {
   "cell_type": "code",
   "execution_count": null,
   "metadata": {},
   "outputs": [],
   "source": [
    "nums <- c(1:6)\n",
    "\n",
    "multiplication <- age_restric * nums\n",
    "multiplication\n",
    "\n",
    "addition <- age_restric + nums\n",
    "addition\n",
    "\n",
    "division <- age_restric / nums\n",
    "division\n",
    "\n",
    "exponentiation <- age_restric ^ nums\n",
    "exponentiation"
   ]
  },
  {
   "cell_type": "markdown",
   "metadata": {},
   "source": [
    "To NOT display an element from any vector by using a **negative index of the element** withing square brackets. This does not alter the original vector."
   ]
  },
  {
   "cell_type": "code",
   "execution_count": null,
   "metadata": {},
   "outputs": [],
   "source": [
    "cost_2014 = c(8.6, 8.5, 8.1)\n",
    "\n",
    "#to remove index 1, i.e 8.6\n",
    "cost_2014[-1]\n",
    "\n",
    "#original vector is intact\n",
    "cost_2014"
   ]
  },
  {
   "cell_type": "markdown",
   "metadata": {},
   "source": [
    "A new variable can be created by removing an element or overwrite an existing vector"
   ]
  },
  {
   "cell_type": "code",
   "execution_count": null,
   "metadata": {},
   "outputs": [],
   "source": [
    "new_cost_2014 <- cost_2014[-1]\n",
    "new_cost_2014"
   ]
  },
  {
   "cell_type": "markdown",
   "metadata": {},
   "source": [
    "Find **min()** and **max()** elements of a vector."
   ]
  },
  {
   "cell_type": "code",
   "execution_count": null,
   "metadata": {},
   "outputs": [],
   "source": [
    "min(cost_2014)"
   ]
  },
  {
   "cell_type": "code",
   "execution_count": null,
   "metadata": {},
   "outputs": [],
   "source": [
    "max(cost_2014)"
   ]
  },
  {
   "cell_type": "markdown",
   "metadata": {},
   "source": [
    "Find **sum()** and **mean()** of elements in a vector."
   ]
  },
  {
   "cell_type": "code",
   "execution_count": null,
   "metadata": {},
   "outputs": [],
   "source": [
    "sum(cost_2014)"
   ]
  },
  {
   "cell_type": "code",
   "execution_count": null,
   "metadata": {},
   "outputs": [],
   "source": [
    "mean(cost_2014)"
   ]
  },
  {
   "cell_type": "markdown",
   "metadata": {},
   "source": [
    "We can map two vectors using **names()** function. Here we name the movies released in the release_year values."
   ]
  },
  {
   "cell_type": "code",
   "execution_count": null,
   "metadata": {},
   "outputs": [],
   "source": [
    "#map names to release_year\n",
    "release_year <- c(1985, 1999, 2015, 1964)\n",
    "names(release_year) <- c(\"The Breakfast Club\", \"American Beauty\", \"Black Swan\", \"Chicago\")\n",
    "\n",
    "release_year"
   ]
  },
  {
   "cell_type": "markdown",
   "metadata": {},
   "source": [
    "Query movies using movie names or their index within **square brackets []**"
   ]
  },
  {
   "cell_type": "code",
   "execution_count": null,
   "metadata": {},
   "outputs": [],
   "source": [
    "release_year[1]\n",
    "release_year[c(3, 4)]\n",
    "release_year[\"Chicago\"]\n",
    "release_year[c(\"American Beauty\", \"Black Swan\")]"
   ]
  },
  {
   "cell_type": "markdown",
   "metadata": {},
   "source": [
    "Operations can be performed on the mapped elements as follows"
   ]
  },
  {
   "cell_type": "code",
   "execution_count": null,
   "metadata": {},
   "outputs": [],
   "source": [
    "release_year[1] + 100 - 20"
   ]
  },
  {
   "cell_type": "code",
   "execution_count": null,
   "metadata": {},
   "outputs": [],
   "source": [
    "release_year[c(\"American Beauty\", \"Black Swan\")] * 20"
   ]
  },
  {
   "cell_type": "code",
   "execution_count": null,
   "metadata": {},
   "outputs": [],
   "source": [
    "names(release_year)[1:3]"
   ]
  },
  {
   "cell_type": "code",
   "execution_count": null,
   "metadata": {},
   "outputs": [],
   "source": [
    "summary(names(release_year))"
   ]
  },
  {
   "cell_type": "code",
   "execution_count": null,
   "metadata": {},
   "outputs": [],
   "source": [
    "summary(release_year)"
   ]
  },
  {
   "cell_type": "code",
   "execution_count": null,
   "metadata": {},
   "outputs": [],
   "source": [
    "sort(names(release_year))"
   ]
  },
  {
   "cell_type": "code",
   "execution_count": null,
   "metadata": {
    "collapsed": true
   },
   "outputs": [],
   "source": []
  }
 ],
 "metadata": {
  "kernelspec": {
   "display_name": "R",
   "language": "R",
   "name": "ir"
  },
  "language_info": {
   "codemirror_mode": "r",
   "file_extension": ".r",
   "mimetype": "text/x-r-source",
   "name": "R",
   "pygments_lexer": "r",
   "version": "3.4.1"
  }
 },
 "nbformat": 4,
 "nbformat_minor": 2
}
